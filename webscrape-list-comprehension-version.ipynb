{
 "cells": [
  {
   "cell_type": "markdown",
   "metadata": {},
   "source": [
    "# List Comprehension Version"
   ]
  },
  {
   "cell_type": "code",
   "execution_count": 1,
   "metadata": {
    "collapsed": true
   },
   "outputs": [],
   "source": [
    "from urllib.request import urlopen\n",
    "from bs4 import BeautifulSoup as soup\n",
    "import re\n",
    "import itertools"
   ]
  },
  {
   "cell_type": "code",
   "execution_count": 2,
   "metadata": {
    "collapsed": true
   },
   "outputs": [],
   "source": [
    "my_url = \"http://www.lunduniversity.lu.se/lubas/programs\"\n",
    "\n",
    "\n",
    "# open connection and downloading the web page\n",
    "download = urlopen(my_url)\n",
    "page_html = download.read() # dumping everything as HTML\n",
    "download.close() # close the internet connection\n",
    "\n",
    "# parse\n",
    "page_soup = soup(page_html, \"html.parser\")"
   ]
  },
  {
   "cell_type": "code",
   "execution_count": 3,
   "metadata": {},
   "outputs": [
    {
     "name": "stdout",
     "output_type": "stream",
     "text": [
      "[('Accounting and Finance', 'Master'), ('Applied Cultural Analysis', 'Master'), ('Archaeology - theory and practice', 'Master'), ('Architecture', 'Master'), ('Asian Studies', 'Master'), ('Astrophysics', 'Master'), ('Atmospheric Sciences and Biogeochemical Cycles', 'Master'), ('Bioinformatics', 'Master'), ('Biology| Animal Ecology', 'Master'), ('Biology| Aquatic Ecology', 'Master'), ('Biology| Conservation Biology', 'Master'), ('Biology| General', 'Master'), ('Biology| Plant Science', 'Master'), ('Biomedicine', 'Master'), ('Biotechnology', 'Master'), ('Chemistry', 'Master'), ('Church Music| Arrangement and Composition', 'Master'), ('Church Music| Organ and Keyboard', 'Master'), ('Church Music| Vocal Music and Choir', 'Master'), ('Development Studies', 'Bachelor'), ('Development Studies', 'Master'), ('Disaster Risk Management and Climate Change Adaptation', 'Master'), ('Economic Growth| Population and Development', 'Master'), ('Economics', 'Master'), ('Embedded Electronics Engineering', 'Master'), ('Energy-efficient and Environmental Building Design', 'Master'), ('Entrepreneurship and Innovation', 'Master'), ('Environmental Management and Policy', 'Master'), ('Environmental Studies and Sustainability Science', 'N/A'), ('European Affairs', 'Master'), ('European Business Law', 'Master'), ('European Studies', 'Master'), ('European and International Tax Law', 'Master'), ('Finance', 'Master'), ('Fine Arts', 'Bachelor'), ('Fine Arts', 'Master'), ('Food Technology and Nutrition', 'Master'), ('Geographical Information Systems', 'Master'), ('Geology| Bedrock Geology', 'Master'), ('Geology| Quaternary Geology', 'Master'), ('Geomatics', 'Master'), ('Global Studies', 'Master'), ('Human Ecology - Culture| Power and Sustainability', 'Master'), ('Human Geography', 'Master'), ('Industrial Design', 'Master'), ('Information Systems', 'Master'), ('Innovation and Global Sustainable Development', 'Master'), ('International Business', 'Bachelor'), ('International Development and Management', 'Master'), ('International Economics with a focus on China', 'Master'), ('International Human Rights Law', 'Master'), ('International Marketing & Brand Management', 'Master'), ('International Strategic Management', 'Master'), ('Language and Linguistics| Arabic/Semitic Languages', 'Master'), ('Language and Linguistics| Chinese', 'Master'), ('Language and Linguistics| Cognitive semiotics', 'Master'), ('Language and Linguistics| English', 'Master'), ('Language and Linguistics| French', 'Master'), ('Language and Linguistics| General Linguistics', 'Master'), ('Language and Linguistics| Greek', 'Master'), ('Language and Linguistics| Italian', 'Master'), ('Language and Linguistics| Japanese', 'Master'), ('Language and Linguistics| Latin', 'Master'), ('Language and Linguistics| Modern Greek', 'Master'), ('Language and Linguistics| Phonetics', 'Master'), ('Language and Linguistics| Rhetoric', 'Master'), ('Language and Linguistics| Spanish', 'Master'), ('Language and Linguistics| Swedish/Scandinavian Languages', 'Master'), ('Literature - Culture - Media| English Literature', 'Master'), ('Literature - Culture - Media| French Literature', 'Master'), ('Literature - Culture - Media| General Literature', 'Master'), ('Literature - Culture - Media| German Literature', 'Master'), ('Literature - Culture - Media| Russian Literature', 'Master'), ('Literature - Culture - Media| Scandinavian Studies', 'Master'), ('Literature - Culture - Media| Spanish Literature', 'Master'), ('Literature - Culture - Media| Yiddish Literature', 'Master'), ('Logistics and Supply Chain Management', 'Master'), ('Management', 'Master'), ('Managing People| Knowledge & Change', 'Master'), ('Mathematical Statistics', 'Master'), ('Mathematics', 'Master'), ('Media and Communication Studies', 'Master'), ('Medical Science| Ageing and Health', 'Master'), ('Medical Science| Audiology', 'Master'), ('Medical Science| Nursing', 'Master'), ('Medical Science| Occupational Therapy', 'Master'), ('Medical Science| Physiotherapy', 'Master'), ('Medical Science| Reproductive| Perinatal and Sexual Health', 'Master'), ('Medical Science| Speech and Language Pathology', 'Master'), ('Middle Eastern Studies', 'Master'), ('Molecular Biology| General', 'Master'), ('Molecular Biology| Medical Biology', 'Master'), ('Molecular Biology| Microbiology', 'Master'), ('Molecular Biology| Molecular Genetics and Biotechnology', 'Master'), ('Music| Composition', 'Master'), ('Music| Composition Diploma', 'Master'), ('Music| Guitar', 'Master'), ('Music| Harpsichord', 'Master'), ('Music| Interpretation Diploma', 'Master'), ('Music| Jazz Improvisation', 'Master'), ('Music| Piano', 'Master'), ('Music| Recorder', 'Master'), ('Music| Symphony Orchestra Instrument', 'Bachelor'), ('Music| Symphony Orchestra Instrument', 'Master'), ('Music| Vocal and Drama Studies', 'Master'), ('Organizing Molecular Matter', 'Master'), ('Physical Geography and Ecosystem Science', 'Master'), ('Physics| Biological Physics and Computational Biology', 'Master'), ('Physics| General', 'Master'), ('Physics| Materials science', 'Master'), ('Physics| Nanoscience', 'Master'), ('Physics| Particle Physics', 'Master'), ('Physics| Photonics', 'Master'), ('Physics| Theoretical Physics', 'Master'), ('Protein Science', 'Master'), ('Psychology', 'Master'), ('Public Health', 'Master'), ('Religious Roots of Europe', 'Master'), ('Sciences| Mathematics', 'N/A'), ('Sciences| Physical Geography and Ecosystem Science', 'N/A'), ('Sciences| Physics', 'N/A'), ('Service Management| Retail', 'Master'), ('Service Management| Supply Chain Management', 'Master'), ('Service Management| Tourism', 'Master'), ('Social Anthropology', 'Master'), ('Social Studies of Gender', 'Master'), ('Sociology', 'Master'), ('Sociology of Law', 'Master'), ('Strategic Communication', 'Master'), ('Sustainable Urban Design', 'Master'), ('Synchrotron Radiation Based Science', 'Master'), ('Visual Culture', 'Master'), ('Water Resources Engineering', 'Master'), ('Welfare Policies and Management', 'Master'), ('Wireless Communications', 'Master')]\n"
     ]
    }
   ],
   "source": [
    "# university programs were grouped by letter so make containers based on \n",
    "# the program grouping\n",
    "containers = page_soup.find_all(\"div\", class_=\"program-group\")\n",
    "\n",
    "\n",
    "# make filename for csv file and open the file to start writing into\n",
    "filename = \"lund_university_programs.csv\"\n",
    "f = open(filename, \"w\")\n",
    "\n",
    "headers = \"international_degree_program\" + \",\" + \"education_level\\n\" # make headers and add new line because its a csv\n",
    "\n",
    "f.write(headers) # writes the headers in your file. Start adding loop result\n",
    "\n",
    "\n",
    "########### make 2 lists of program names and education levels so that they can be put together in 1 list\n",
    "# get span tag in each container (17 containers total)\n",
    "container_span = [container.find_all(\"span\") for container in containers]\n",
    "\n",
    "# flatten list of lists with itertools\n",
    "span_list = list(itertools.chain.from_iterable(container_span))\n",
    "\n",
    "# extract string from HTML span tag\n",
    "programs_string = [item.string for item in span_list]\n",
    "\n",
    "# list: re-assign, split, and clean education levels of each program\n",
    "education_levels = [\"Master\" if \"aster\" in program else \"Bachelor\" if \"achelor\" in program else \"N/A\"\n",
    "                    for program in programs_string]\n",
    "programs_split = [re.split(\" - Ma| - B\", program) for program in programs_string]\n",
    "\n",
    "# list: program names\n",
    "# simultaneously keep only program name and avoid \",\" delimiter problems\n",
    "programs_name = [program[0].replace(\",\", \"|\") for program in programs_split]\n",
    "\n",
    "# merge lists\n",
    "keys, values = programs_name, education_levels\n",
    "final_list = list(zip(keys, values))\n",
    "\n",
    "print([element for element in final_list])\n",
    "\n",
    "# write to csv\n",
    "[f.write(name[0] + \" , \" + name[1] + \"\\n\") for name in final_list]\n",
    "\n",
    "f.close() "
   ]
  }
 ],
 "metadata": {
  "kernelspec": {
   "display_name": "Python 3",
   "language": "python",
   "name": "python3"
  },
  "language_info": {
   "codemirror_mode": {
    "name": "ipython",
    "version": 3
   },
   "file_extension": ".py",
   "mimetype": "text/x-python",
   "name": "python",
   "nbconvert_exporter": "python",
   "pygments_lexer": "ipython3",
   "version": "3.5.4"
  }
 },
 "nbformat": 4,
 "nbformat_minor": 2
}
